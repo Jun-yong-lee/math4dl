{
 "cells": [
  {
   "attachments": {},
   "cell_type": "markdown",
   "metadata": {},
   "source": [
    "## 7장 선형회귀 모델"
   ]
  },
  {
   "cell_type": "code",
   "execution_count": 7,
   "metadata": {},
   "outputs": [],
   "source": [
    "import numpy as np\n",
    "import matplotlib.pyplot as plt"
   ]
  },
  {
   "cell_type": "code",
   "execution_count": 15,
   "metadata": {},
   "outputs": [],
   "source": [
    "from sklearn import datasets"
   ]
  },
  {
   "attachments": {},
   "cell_type": "markdown",
   "metadata": {},
   "source": [
    "boston 데이터셋의 RM feature 설명\n",
    "\n",
    "RM: 주택당 평균 방 개수\n",
    "\"RM\"은 보스턴 주택 데이터셋의 각 주택당 평균 방 개수를 나타냅니다. 이 특성은 주택의 크기와 공간적인 측면에 대한 정보를 제공합니다.\n",
    "\n",
    "방의 개수는 주택의 크기와 공간의 여유를 나타내는 경향이 있습니다. 보통 방의 개수가 많을수록 주택은 더 크고 넓다는 것을 의미합니다. 따라서 방의 개수는 주택의 가격이나 가치에 영향을 줄 수 있습니다.\n",
    "\n",
    "주택 가격을 예측하는 모델을 구축하는 경우, \"RM\"은 유용한 특성으로 간주될 수 있습니다. 방의 개수가 많은 주택은 일반적으로 더 높은 가격을 가지는 경향이 있기 때문입니다. 이러한 특성을 활용하여 주택 가격 예측이나 회귀 분석 작업을 수행할 수 있습니다.\n",
    "\n",
    "보스턴 데이터셋에서 \"RM\" 특성은 각 서브어(동네)의 주택마다의 평균 방 개수를 나타내며, 이를 활용하여 다양한 분석과 예측 모델링 작업을 수행할 수 있습니다"
   ]
  },
  {
   "cell_type": "code",
   "execution_count": 62,
   "metadata": {},
   "outputs": [
    {
     "name": "stdout",
     "output_type": "stream",
     "text": [
      "원본 데이터 (506, 13) (506,)\n",
      "항목 이름:  ['CRIM', 'ZN', 'INDUS', 'CHAS', 'NOX', 'RM', 'AGE', 'DIS', 'RAD', 'TAX', 'PTRATIO', 'B', 'LSTAT']\n",
      "RM 데이터 (506, 1)\n",
      "더미 변수 추가 후의 RM 데이터 (506, 2)\n",
      "x = [[1.    6.575]\n",
      " [1.    6.421]\n",
      " [1.    7.185]\n",
      " ...\n",
      " [1.    6.976]\n",
      " [1.    6.794]\n",
      " [1.    6.03 ]]\n"
     ]
    },
    {
     "name": "stderr",
     "output_type": "stream",
     "text": [
      "c:\\study\\math4dl\\math4dl\\.conda\\lib\\site-packages\\sklearn\\datasets\\_openml.py:968: FutureWarning: The default value of `parser` will change from `'liac-arff'` to `'auto'` in 1.4. You can set `parser='auto'` to silence this warning. Therefore, an `ImportError` will be raised from 1.4 if the dataset is dense and pandas is not installed. Note that the pandas parser may return different data types. See the Notes Section in fetch_openml's API doc for details.\n",
      "  warn(\n"
     ]
    }
   ],
   "source": [
    "# 학습용 데이터 준비\n",
    "boston = datasets.fetch_openml(name='boston', version=1)\n",
    "x_org, yt = boston.data, boston.target\n",
    "feature_names = boston.feature_names\n",
    "print('원본 데이터', x_org.shape, yt.shape)\n",
    "print('항목 이름: ', feature_names)\n",
    "\n",
    "# RM 데이터\n",
    "x_data = np.array(x_org['RM']).reshape(-1, 1) # numpy.reshape(a, newshape, order='C')\n",
    "print(f\"RM 데이터 {x_data.shape}\")\n",
    "\n",
    "# 매트릭스 형태로 만들기 위해 RM(객실수) 이외의 값인 1인 더미 변수 추가\n",
    "x = np.insert(x_data, 0, 1.0, axis=1) # numpy.insert(arr, obj, values, axis=None)\n",
    "print(f\"더미 변수 추가 후의 RM 데이터 {x.shape}\")\n",
    "print(f\"x = {x}\")"
   ]
  },
  {
   "cell_type": "code",
   "execution_count": 63,
   "metadata": {},
   "outputs": [
    {
     "name": "stdout",
     "output_type": "stream",
     "text": [
      "(506, 2)\n",
      "[[1.    6.575]\n",
      " [1.    6.421]\n",
      " [1.    7.185]\n",
      " [1.    6.998]\n",
      " [1.    7.147]]\n"
     ]
    }
   ],
   "source": [
    "# 입력 데이터 x를 표시 (더미 변수 포함)\n",
    "print(x.shape)\n",
    "print(x[:5,:])"
   ]
  },
  {
   "cell_type": "code",
   "execution_count": 64,
   "metadata": {},
   "outputs": [
    {
     "name": "stdout",
     "output_type": "stream",
     "text": [
      "0    24.0\n",
      "1    21.6\n",
      "2    34.7\n",
      "3    33.4\n",
      "4    36.2\n",
      "Name: MEDV, dtype: float64\n"
     ]
    }
   ],
   "source": [
    "# 정답값 yt를 표시\n",
    "print(yt[:5])"
   ]
  },
  {
   "cell_type": "code",
   "execution_count": 67,
   "metadata": {},
   "outputs": [
    {
     "data": {
      "image/png": "[encoded data removed]",
      "text/plain": [
       "<Figure size 640x480 with 1 Axes>"
      ]
     },
     "metadata": {},
     "output_type": "display_data"
    }
   ],
   "source": [
    "# 산점도를 표시\n",
    "plt.scatter(x[:,1], yt, s=10, c='r')\n",
    "plt.xlabel('ROOM', fontsize=14) # x(RM)\n",
    "plt.ylabel('PRICE', fontsize=14) # yt(Price)\n",
    "plt.show()"
   ]
  },
  {
   "cell_type": "code",
   "execution_count": 68,
   "metadata": {},
   "outputs": [],
   "source": [
    "# 예측함수 (1, x)의 값에서 예측값 yp를 계산\n",
    "# '@'은 내적을 의미하는 기호로 수식을 간단하게 표현할 수 있기 때문에 사용됨\n",
    "def pred(x, w):\n",
    "    return(x @ w)"
   ]
  },
  {
   "cell_type": "code",
   "execution_count": null,
   "metadata": {},
   "outputs": [],
   "source": []
  }
 ],
 "metadata": {
  "kernelspec": {
   "display_name": "Python 3",
   "language": "python",
   "name": "python3"
  },
  "language_info": {
   "codemirror_mode": {
    "name": "ipython",
    "version": 3
   },
   "file_extension": ".py",
   "mimetype": "text/x-python",
   "name": "python",
   "nbconvert_exporter": "python",
   "pygments_lexer": "ipython3",
   "version": "3.8.16"
  },
  "orig_nbformat": 4
 },
 "nbformat": 4,
 "nbformat_minor": 2
}
